{
 "cells": [
  {
   "cell_type": "markdown",
   "id": "3df539e5",
   "metadata": {},
   "source": [
    "Primeiro, deve ser importada a biblioteca pickle, utilizada para o processo de abertura do arquivo."
   ]
  },
  {
   "cell_type": "code",
   "execution_count": 5,
   "id": "825c592c",
   "metadata": {},
   "outputs": [],
   "source": [
    "import pickle"
   ]
  },
  {
   "cell_type": "markdown",
   "id": "a12c0b64",
   "metadata": {},
   "source": [
    "Agora, é necessário importar a biblioteca que irá auxiliar na troca de diretório"
   ]
  },
  {
   "cell_type": "code",
   "execution_count": 6,
   "id": "821b7905",
   "metadata": {},
   "outputs": [],
   "source": [
    "import os"
   ]
  },
  {
   "cell_type": "markdown",
   "id": "13965c63",
   "metadata": {},
   "source": [
    "A função a seguir troca o diretório para o local onde está armazenado o arquivo .pkl"
   ]
  },
  {
   "cell_type": "code",
   "execution_count": 7,
   "id": "62f22fee",
   "metadata": {},
   "outputs": [],
   "source": [
    "os.chdir('C:\\\\Users\\\\Maxter\\\\Desktop')"
   ]
  },
  {
   "cell_type": "markdown",
   "id": "4c749a8a",
   "metadata": {},
   "source": [
    "A segur, iremos buscar e carregar o arquivo 'chamados.pkl' para leitura 'rb', criando a variável 'chamados'"
   ]
  },
  {
   "cell_type": "code",
   "execution_count": 13,
   "id": "385ab9a0",
   "metadata": {},
   "outputs": [],
   "source": [
    "with open('chamados.pkl','rb') as pf:\n",
    "    chamados = pickle.load(pf)"
   ]
  },
  {
   "cell_type": "markdown",
   "id": "e5aef85a",
   "metadata": {},
   "source": [
    "Agora, já estamos aptos para poder ler o arquivo!"
   ]
  },
  {
   "cell_type": "code",
   "execution_count": 12,
   "id": "076558d4",
   "metadata": {},
   "outputs": [
    {
     "data": {
      "text/html": [
       "<div>\n",
       "<style scoped>\n",
       "    .dataframe tbody tr th:only-of-type {\n",
       "        vertical-align: middle;\n",
       "    }\n",
       "\n",
       "    .dataframe tbody tr th {\n",
       "        vertical-align: top;\n",
       "    }\n",
       "\n",
       "    .dataframe thead th {\n",
       "        text-align: right;\n",
       "    }\n",
       "</style>\n",
       "<table border=\"1\" class=\"dataframe\">\n",
       "  <thead>\n",
       "    <tr style=\"text-align: right;\">\n",
       "      <th></th>\n",
       "      <th>Data</th>\n",
       "      <th>Time</th>\n",
       "      <th>Ferramenta</th>\n",
       "      <th>Canal</th>\n",
       "      <th>Encantador</th>\n",
       "      <th>Tempo Medio Interacao (s)</th>\n",
       "    </tr>\n",
       "  </thead>\n",
       "  <tbody>\n",
       "    <tr>\n",
       "      <th>303105</th>\n",
       "      <td>2021-04-30</td>\n",
       "      <td>Alfa</td>\n",
       "      <td>A</td>\n",
       "      <td>WhatsApp</td>\n",
       "      <td>samantha4353@stone.com.br</td>\n",
       "      <td>69.5</td>\n",
       "    </tr>\n",
       "    <tr>\n",
       "      <th>303260</th>\n",
       "      <td>2021-04-30</td>\n",
       "      <td>Sigma</td>\n",
       "      <td>A</td>\n",
       "      <td>WhatsApp</td>\n",
       "      <td>autumn6774@stone.com.br</td>\n",
       "      <td>406.0</td>\n",
       "    </tr>\n",
       "    <tr>\n",
       "      <th>303259</th>\n",
       "      <td>2021-04-30</td>\n",
       "      <td>Sigma</td>\n",
       "      <td>A</td>\n",
       "      <td>WhatsApp</td>\n",
       "      <td>autumn6774@stone.com.br</td>\n",
       "      <td>NaN</td>\n",
       "    </tr>\n",
       "    <tr>\n",
       "      <th>303258</th>\n",
       "      <td>2021-04-30</td>\n",
       "      <td>Sigma</td>\n",
       "      <td>A</td>\n",
       "      <td>WhatsApp</td>\n",
       "      <td>chase8699@stone.com.br</td>\n",
       "      <td>NaN</td>\n",
       "    </tr>\n",
       "    <tr>\n",
       "      <th>303257</th>\n",
       "      <td>2021-04-30</td>\n",
       "      <td>Sigma</td>\n",
       "      <td>A</td>\n",
       "      <td>WhatsApp</td>\n",
       "      <td>chase8699@stone.com.br</td>\n",
       "      <td>55.1</td>\n",
       "    </tr>\n",
       "    <tr>\n",
       "      <th>...</th>\n",
       "      <td>...</td>\n",
       "      <td>...</td>\n",
       "      <td>...</td>\n",
       "      <td>...</td>\n",
       "      <td>...</td>\n",
       "      <td>...</td>\n",
       "    </tr>\n",
       "    <tr>\n",
       "      <th>108183</th>\n",
       "      <td>2021-09-22</td>\n",
       "      <td>Alfa</td>\n",
       "      <td>A</td>\n",
       "      <td>WhatsApp</td>\n",
       "      <td>miranda3212@stone.com.br</td>\n",
       "      <td>36.7</td>\n",
       "    </tr>\n",
       "    <tr>\n",
       "      <th>108182</th>\n",
       "      <td>2021-09-22</td>\n",
       "      <td>Alfa</td>\n",
       "      <td>A</td>\n",
       "      <td>Chat</td>\n",
       "      <td>frederick5457@stone.com.br</td>\n",
       "      <td>45.8</td>\n",
       "    </tr>\n",
       "    <tr>\n",
       "      <th>108181</th>\n",
       "      <td>2021-09-22</td>\n",
       "      <td>Alfa</td>\n",
       "      <td>A</td>\n",
       "      <td>Chat</td>\n",
       "      <td>brandy9846@stone.com.br</td>\n",
       "      <td>14.0</td>\n",
       "    </tr>\n",
       "    <tr>\n",
       "      <th>108191</th>\n",
       "      <td>2021-09-22</td>\n",
       "      <td>Alfa</td>\n",
       "      <td>A</td>\n",
       "      <td>WhatsApp</td>\n",
       "      <td>johnny7750@stone.com.br</td>\n",
       "      <td>542.0</td>\n",
       "    </tr>\n",
       "    <tr>\n",
       "      <th>107858</th>\n",
       "      <td>2021-09-22</td>\n",
       "      <td>Delta</td>\n",
       "      <td>A</td>\n",
       "      <td>WhatsApp</td>\n",
       "      <td>christina2145@stone.com.br</td>\n",
       "      <td>11.0</td>\n",
       "    </tr>\n",
       "  </tbody>\n",
       "</table>\n",
       "<p>2980478 rows × 6 columns</p>\n",
       "</div>"
      ],
      "text/plain": [
       "             Data   Time Ferramenta     Canal                  Encantador  \\\n",
       "303105 2021-04-30   Alfa          A  WhatsApp   samantha4353@stone.com.br   \n",
       "303260 2021-04-30  Sigma          A  WhatsApp     autumn6774@stone.com.br   \n",
       "303259 2021-04-30  Sigma          A  WhatsApp     autumn6774@stone.com.br   \n",
       "303258 2021-04-30  Sigma          A  WhatsApp      chase8699@stone.com.br   \n",
       "303257 2021-04-30  Sigma          A  WhatsApp      chase8699@stone.com.br   \n",
       "...           ...    ...        ...       ...                         ...   \n",
       "108183 2021-09-22   Alfa          A  WhatsApp    miranda3212@stone.com.br   \n",
       "108182 2021-09-22   Alfa          A      Chat  frederick5457@stone.com.br   \n",
       "108181 2021-09-22   Alfa          A      Chat     brandy9846@stone.com.br   \n",
       "108191 2021-09-22   Alfa          A  WhatsApp     johnny7750@stone.com.br   \n",
       "107858 2021-09-22  Delta          A  WhatsApp  christina2145@stone.com.br   \n",
       "\n",
       "        Tempo Medio Interacao (s)  \n",
       "303105                       69.5  \n",
       "303260                      406.0  \n",
       "303259                        NaN  \n",
       "303258                        NaN  \n",
       "303257                       55.1  \n",
       "...                           ...  \n",
       "108183                       36.7  \n",
       "108182                       45.8  \n",
       "108181                       14.0  \n",
       "108191                      542.0  \n",
       "107858                       11.0  \n",
       "\n",
       "[2980478 rows x 6 columns]"
      ]
     },
     "execution_count": 12,
     "metadata": {},
     "output_type": "execute_result"
    }
   ],
   "source": [
    "chamados"
   ]
  }
 ],
 "metadata": {
  "kernelspec": {
   "display_name": "Python 3 (ipykernel)",
   "language": "python",
   "name": "python3"
  },
  "language_info": {
   "codemirror_mode": {
    "name": "ipython",
    "version": 3
   },
   "file_extension": ".py",
   "mimetype": "text/x-python",
   "name": "python",
   "nbconvert_exporter": "python",
   "pygments_lexer": "ipython3",
   "version": "3.9.7"
  }
 },
 "nbformat": 4,
 "nbformat_minor": 5
}
